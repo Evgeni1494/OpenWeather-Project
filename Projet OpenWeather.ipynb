{
 "cells": [
  {
   "cell_type": "code",
   "execution_count": 9,
   "metadata": {},
   "outputs": [],
   "source": [
    "import requests\n"
   ]
  },
  {
   "cell_type": "code",
   "execution_count": 10,
   "metadata": {},
   "outputs": [
    {
     "name": "stdout",
     "output_type": "stream",
     "text": [
      "51.5073219\n",
      "-0.1276474\n"
     ]
    }
   ],
   "source": [
    "url = \"http://api.openweathermap.org/geo/1.0/direct\"\n",
    "\n",
    "appid=\"a30f2215f9805d9d0a26c9183cf9b58d\"\n",
    "params = {\n",
    "    \"appid\": appid,\n",
    "    \"q\" : \"London,GB\"\n",
    "\n",
    "}\n",
    "\n",
    "\n",
    "response= requests.get(url,params=params)\n",
    "\n",
    "print(response.json()[0][\"lat\"])\n",
    "print(response.json()[0][\"lon\"])"
   ]
  },
  {
   "cell_type": "code",
   "execution_count": 11,
   "metadata": {},
   "outputs": [
    {
     "name": "stdout",
     "output_type": "stream",
     "text": [
      "{'coord': {'lon': -0.1276, 'lat': 51.5073}, 'weather': [{'id': 701, 'main': 'Mist', 'description': 'brume', 'icon': '50d'}], 'base': 'stations', 'main': {'temp': 12.5, 'feels_like': 12.31, 'temp_min': 11.08, 'temp_max': 13.35, 'pressure': 1015, 'humidity': 96}, 'visibility': 5000, 'wind': {'speed': 1.03, 'deg': 0}, 'clouds': {'all': 75}, 'dt': 1665645969, 'sys': {'type': 2, 'id': 2075535, 'country': 'GB', 'sunrise': 1665642035, 'sunset': 1665681160}, 'timezone': 3600, 'id': 2643743, 'name': 'Londres', 'cod': 200}\n"
     ]
    }
   ],
   "source": [
    "\n",
    "url_loc = \"https://api.openweathermap.org/data/2.5/weather\"\n",
    "\n",
    "\n",
    "lat = (response.json()[0][\"lat\"])\n",
    "lon = (response.json()[0][\"lon\"])\n",
    "\n",
    "\n",
    "appid=\"a30f2215f9805d9d0a26c9183cf9b58d\"\n",
    "params= {\n",
    "    \"appid\":appid,\n",
    "    \"lat\": lat,\n",
    "    \"lon\": lon,\n",
    "    \"units\": \"metric\",\n",
    "    \"lang\": \"fr\"\n",
    "}\n",
    "response= requests.get(url_loc,params=params)\n",
    "\n",
    "print(response.json())"
   ]
  },
  {
   "cell_type": "code",
   "execution_count": 12,
   "metadata": {},
   "outputs": [],
   "source": [
    "def temperature (ville):\n",
    "    \n",
    "\n",
    "\n",
    "\n",
    "    return temp"
   ]
  }
 ],
 "metadata": {
  "kernelspec": {
   "display_name": "Python 3.8.10 64-bit",
   "language": "python",
   "name": "python3"
  },
  "language_info": {
   "codemirror_mode": {
    "name": "ipython",
    "version": 3
   },
   "file_extension": ".py",
   "mimetype": "text/x-python",
   "name": "python",
   "nbconvert_exporter": "python",
   "pygments_lexer": "ipython3",
   "version": "3.8.10"
  },
  "orig_nbformat": 4,
  "vscode": {
   "interpreter": {
    "hash": "916dbcbb3f70747c44a77c7bcd40155683ae19c65e1c03b4aa3499c5328201f1"
   }
  }
 },
 "nbformat": 4,
 "nbformat_minor": 2
}
