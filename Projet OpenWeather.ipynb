{
 "cells": [
  {
   "cell_type": "code",
   "execution_count": 19,
   "metadata": {},
   "outputs": [],
   "source": [
    "import requests\n"
   ]
  },
  {
   "cell_type": "code",
   "execution_count": 22,
   "metadata": {},
   "outputs": [
    {
     "name": "stdout",
     "output_type": "stream",
     "text": [
      "{'coord': {'lon': -0.1276, 'lat': 51.5073}, 'weather': [{'id': 801, 'main': 'Clouds', 'description': 'peu nuageux', 'icon': '02d'}], 'base': 'stations', 'main': {'temp': 18.25, 'feels_like': 17.75, 'temp_min': 16.61, 'temp_max': 19.32, 'pressure': 1016, 'humidity': 62}, 'visibility': 10000, 'wind': {'speed': 6.69, 'deg': 230}, 'clouds': {'all': 20}, 'dt': 1665154365, 'sys': {'type': 2, 'id': 2075535, 'country': 'GB', 'sunrise': 1665123034, 'sunset': 1665163556}, 'timezone': 3600, 'id': 2643743, 'name': 'Londres', 'cod': 200}\n"
     ]
    }
   ],
   "source": [
    "\n",
    "\n",
    "\n"
   ]
  },
  {
   "cell_type": "code",
   "execution_count": 21,
   "metadata": {},
   "outputs": [
    {
     "name": "stdout",
     "output_type": "stream",
     "text": [
      "51.5073219\n",
      "-0.1276474\n"
     ]
    }
   ],
   "source": [
    "url = \"http://api.openweathermap.org/geo/1.0/direct\"\n",
    "\n",
    "\n",
    "params = {\n",
    "    \"appid\": appid,\n",
    "    \"q\" : \"London,GB\"\n",
    "\n",
    "}\n",
    "\n",
    "\n",
    "response= requests.get(url,params=params)\n",
    "\n",
    "print(response.json()[0][\"lat\"])\n",
    "print(response.json()[0][\"lon\"])"
   ]
  },
  {
   "cell_type": "code",
   "execution_count": null,
   "metadata": {},
   "outputs": [],
   "source": [
    "\n",
    "url_loc = \"https://api.openweathermap.org/data/2.5/weather\"\n",
    "\n",
    "\n",
    "lat = (response.json()[0][\"lat\"])\n",
    "lon = (response.json()[0][\"lon\"])\n",
    "\n",
    "\n",
    "appid=\"a30f2215f9805d9d0a26c9183cf9b58d\"\n",
    "params= {\n",
    "    \"appid\":appid,\n",
    "    \"lat\": lat,\n",
    "    \"lon\": lon,\n",
    "    \"units\": \"metric\",\n",
    "    \"lang\": \"fr\"\n",
    "}\n",
    "response= requests.get(url_loc,params=params)\n",
    "\n",
    "print(response.json())"
   ]
  },
  {
   "cell_type": "code",
   "execution_count": null,
   "metadata": {},
   "outputs": [],
   "source": [
    "def temperature (ville)\n",
    "    \n",
    "\n",
    "\n",
    "\n",
    "    return temp"
   ]
  }
 ],
 "metadata": {
  "kernelspec": {
   "display_name": "Python 3.8.10 64-bit",
   "language": "python",
   "name": "python3"
  },
  "language_info": {
   "codemirror_mode": {
    "name": "ipython",
    "version": 3
   },
   "file_extension": ".py",
   "mimetype": "text/x-python",
   "name": "python",
   "nbconvert_exporter": "python",
   "pygments_lexer": "ipython3",
   "version": "3.8.10"
  },
  "orig_nbformat": 4,
  "vscode": {
   "interpreter": {
    "hash": "916dbcbb3f70747c44a77c7bcd40155683ae19c65e1c03b4aa3499c5328201f1"
   }
  }
 },
 "nbformat": 4,
 "nbformat_minor": 2
}
